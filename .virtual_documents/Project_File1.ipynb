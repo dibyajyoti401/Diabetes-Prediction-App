import numpy as np
import pandas as pd
from sklearn.impute import SimpleImputer
from sklearn.model_selection import train_test_split
import matplotlib.pyplot as plt
import seaborn as sns


data=pd.read_csv("E:\Data Science\PROJECT\diabetes.csv")
df=pd.DataFrame(data)
df


df.isnull().sum()


df.info()


df["Outcome"]


plt.figure(figsize=(10,6))
sns.heatmap(df.corr(),annot=True, cmap='coolwarm',fmt='.2f')
plt.title('co-relation of heatmap')
plt.show()


plt.figure(figsize=(6,4))
sns.countplot(x='Outcome',data=df)
plt.title('outcome_count')
plt.show()


df.hist(bins=15, figsize=(10,10), edgecolor='black')
plt.suptitle('feature_distribution', fontsize=15)
plt.show()






from sklearn.preprocessing import StandardScaler


x=df.drop('Outcome',axis=1)


y=df['Outcome']


x_train,x_test,y_train,y_test=train_test_split(x,y,test_size=0.2,random_state=42)


print(x_train.shape)
print(x_test.shape)
print(y_train.shape)
print(y_test.shape)


scaler=StandardScaler()


x_train_scaled=scaler.fit_transform(x_train)
x_text_scaled=scaler.transform(x_test)


import pickle


pickle.dump(scaler,open('scaler.pkl','wb'))





from sklearn.linear_model import LogisticRegression


model=LogisticRegression()


model.fit(x_train_scaled,y_train)


from sklearn.metrics import accuracy_score


y_pred=model.predict(x_text_scaled)
test_accuracy=accuracy_score(y_test,y_pred)
print(test_accuracy)


pickle.dump(model,open('model.pkl','wb'))





from sklearn import tree


clf=tree.DecisionTreeClassifier()


clf.fit(x_train_scaled,y_train)


y_pred_1=clf.predict(x_text_scaled)
test_accuracy=accuracy_score(y_test,y_pred_1)
print(test_accuracy)





from sklearn.ensemble import RandomForestClassifier


rf=RandomForestClassifier(n_estimators=100)


rf.fit(x_train_scaled,y_train)


y_pred_2=rf.predict(x_text_scaled)
test_accuracy=accuracy_score(y_test,y_pred_2)
print(test_accuracy)





from sklearn.svm import SVC


model2=SVC()


model2.fit(x_train_scaled,y_train)


y_pred_3=model2.predict(x_text_scaled)
test_accuracy=accuracy_score(y_test,y_pred_3)
print(test_accuracy)



